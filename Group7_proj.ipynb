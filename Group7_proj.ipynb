{
 "cells": [
  {
   "cell_type": "code",
   "execution_count": 4,
   "id": "ad9a7b46",
   "metadata": {},
   "outputs": [
    {
     "name": "stdout",
     "output_type": "stream",
     "text": [
      "[1, 3, 5, 7, 9, 11, 13, 15, 17, 19]\n"
     ]
    }
   ],
   "source": [
    "# Number 7\n",
    "listnum= [1,2,3,4,5,6,7,8,9,10,11,12,13,14,15,16,17,18,19,20]\n",
    "odd= list(filter(lambda x:x %2 !=0, listnum))\n",
    "\n",
    "print (odd)"
   ]
  },
  {
   "cell_type": "code",
   "execution_count": 8,
   "id": "a0a58f20",
   "metadata": {},
   "outputs": [
    {
     "name": "stdout",
     "output_type": "stream",
     "text": [
      "[2, 4, 6, 8, 10, 12, 14, 16, 18, 20]\n"
     ]
    }
   ],
   "source": [
    "listnum= [1,2,3,4,5,6,7,8,9,10,11,12,13,14,15,16,17,18,19,20]\n",
    "even= list(filter(lambda x:x %2 ==0, listnum))\n",
    "\n",
    "print (even)"
   ]
  },
  {
   "cell_type": "code",
   "execution_count": 1,
   "id": "2e813587",
   "metadata": {},
   "outputs": [
    {
     "name": "stdout",
     "output_type": "stream",
     "text": [
      "Dear user enter a number: 6\n",
      "[1, 2, 3]\n"
     ]
    }
   ],
   "source": [
    "# Number 6\n",
    "ask= int(input('Dear user enter a number: '))\n",
    "division= [i for i in range(1, ask) if ask % i == 0]\n",
    "\n",
    "print (division)"
   ]
  },
  {
   "cell_type": "code",
   "execution_count": 5,
   "id": "27629336",
   "metadata": {},
   "outputs": [
    {
     "name": "stdout",
     "output_type": "stream",
     "text": [
      "Dear user enter a number: 15\n",
      "[1, 3, 5]\n",
      "9\n"
     ]
    }
   ],
   "source": [
    "ask= int(input('Dear user enter a number: '))\n",
    "division= [i for i in range(1, ask) if ask % i == 0]\n",
    "total= sum(division)\n",
    "print (division)\n",
    "print (total)"
   ]
  },
  {
   "cell_type": "code",
   "execution_count": 2,
   "id": "75b68b06",
   "metadata": {},
   "outputs": [
    {
     "name": "stdout",
     "output_type": "stream",
     "text": [
      "Enter a number as your value of n:3\n",
      "Enter a number as your value of r:2\n",
      "6.0\n",
      "3.0\n"
     ]
    }
   ],
   "source": [
    "# Number 3. Permutation and Combination\n",
    "\n",
    "'this code calculate for both permulation and combination of a given number n and r'\n",
    "while True:\n",
    "    n = int(input(\"Enter a number as your value of n:\"))\n",
    "    r = int(input(\"Enter a number as your value of r:\"))\n",
    "    \n",
    "    def value (n):\n",
    "        if n == 1: return 1\n",
    "        else: return n * value (n-1)\n",
    "        \n",
    "    def value (r):\n",
    "        if r == 0: return 1\n",
    "        else: return r * value (r-1)\n",
    "            \n",
    "    perm = value (n) / value (n-r)\n",
    "    print(perm) # result of permutation\n",
    "    \n",
    "    # Using modified formula perm/r! to calaculate for combination\n",
    "    comb = perm / (r * value(r-1))\n",
    "    print(comb) #result of combination\n",
    "    \n",
    "    break\n",
    "        \n",
    "    "
   ]
  },
  {
   "cell_type": "code",
   "execution_count": 6,
   "id": "e6217f46",
   "metadata": {},
   "outputs": [
    {
     "name": "stdout",
     "output_type": "stream",
     "text": [
      "Enter decimal number: \n",
      "3\n",
      "The Binary value of what you input =  0b11\n"
     ]
    }
   ],
   "source": [
    "# Q4! conversion of Decimalnto Binary\n",
    "print(\"Enter decimal number: \")\n",
    "dec_num = int(input( ))\n",
    "#the operation using python binary function\n",
    "decnum = bin(dec_num)\n",
    "print('The Binary value of what you input = ', decnum)"
   ]
  },
  {
   "cell_type": "code",
   "execution_count": null,
   "id": "0a1ca4ee",
   "metadata": {},
   "outputs": [],
   "source": []
  },
  {
   "cell_type": "code",
   "execution_count": null,
   "id": "1316188e",
   "metadata": {},
   "outputs": [],
   "source": []
  },
  {
   "cell_type": "code",
   "execution_count": null,
   "id": "157a148c",
   "metadata": {},
   "outputs": [],
   "source": []
  }
 ],
 "metadata": {
  "kernelspec": {
   "display_name": "Python 3 (ipykernel)",
   "language": "python",
   "name": "python3"
  },
  "language_info": {
   "codemirror_mode": {
    "name": "ipython",
    "version": 3
   },
   "file_extension": ".py",
   "mimetype": "text/x-python",
   "name": "python",
   "nbconvert_exporter": "python",
   "pygments_lexer": "ipython3",
   "version": "3.11.5"
  }
 },
 "nbformat": 4,
 "nbformat_minor": 5
}
